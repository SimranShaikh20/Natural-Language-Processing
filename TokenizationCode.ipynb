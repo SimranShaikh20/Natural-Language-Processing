{
  "nbformat": 4,
  "nbformat_minor": 0,
  "metadata": {
    "colab": {
      "provenance": [],
      "toc_visible": true,
      "authorship_tag": "ABX9TyMNcant9hsk6JDZAKtybEf0",
      "include_colab_link": true
    },
    "kernelspec": {
      "name": "python3",
      "display_name": "Python 3"
    },
    "language_info": {
      "name": "python"
    }
  },
  "cells": [
    {
      "cell_type": "markdown",
      "metadata": {
        "id": "view-in-github",
        "colab_type": "text"
      },
      "source": [
        "<a href=\"https://colab.research.google.com/github/SimranShaikh20/Natural-Language-Processing/blob/main/TokenizationCode.ipynb\" target=\"_parent\"><img src=\"https://colab.research.google.com/assets/colab-badge.svg\" alt=\"Open In Colab\"/></a>"
      ]
    },
    {
      "cell_type": "code",
      "execution_count": 1,
      "metadata": {
        "colab": {
          "base_uri": "https://localhost:8080/"
        },
        "id": "ShvUwmiAPC4V",
        "outputId": "29c47118-b82b-47bf-d058-ee7e73bcdeff"
      },
      "outputs": [
        {
          "output_type": "stream",
          "name": "stdout",
          "text": [
            "Requirement already satisfied: nltk in /usr/local/lib/python3.10/dist-packages (3.8.1)\n",
            "Requirement already satisfied: click in /usr/local/lib/python3.10/dist-packages (from nltk) (8.1.7)\n",
            "Requirement already satisfied: joblib in /usr/local/lib/python3.10/dist-packages (from nltk) (1.4.2)\n",
            "Requirement already satisfied: regex>=2021.8.3 in /usr/local/lib/python3.10/dist-packages (from nltk) (2024.5.15)\n",
            "Requirement already satisfied: tqdm in /usr/local/lib/python3.10/dist-packages (from nltk) (4.66.5)\n"
          ]
        }
      ],
      "source": [
        "!pip install nltk"
      ]
    },
    {
      "cell_type": "code",
      "source": [
        "corpus=\"\"\"\n",
        "Hello welcome to Simran Shaikh Project for NLP. This is my tokenization demo code to understand how to tokenize text.\n",
        "I hope that you find it useful.\n",
        "\n",
        "\"\"\""
      ],
      "metadata": {
        "id": "_NlEt07UPSyA"
      },
      "execution_count": 9,
      "outputs": []
    },
    {
      "cell_type": "code",
      "source": [
        "corpus"
      ],
      "metadata": {
        "colab": {
          "base_uri": "https://localhost:8080/",
          "height": 52
        },
        "id": "5l25quv3PTED",
        "outputId": "7c983156-59b2-4edb-e9af-4426bdcedc72"
      },
      "execution_count": 3,
      "outputs": [
        {
          "output_type": "execute_result",
          "data": {
            "text/plain": [
              "'\\nHello welcome to Simran Shaikh Project for NLP.This is my tokenization demo code to understand how to tokenize text.\\nI hope that you find it useful.\\n\\n'"
            ],
            "application/vnd.google.colaboratory.intrinsic+json": {
              "type": "string"
            }
          },
          "metadata": {},
          "execution_count": 3
        }
      ]
    },
    {
      "cell_type": "code",
      "source": [
        "print(corpus)"
      ],
      "metadata": {
        "colab": {
          "base_uri": "https://localhost:8080/"
        },
        "id": "HD0v_Dn0PTH-",
        "outputId": "1e41543d-781c-413b-f4a6-8bb5b24e6e50"
      },
      "execution_count": 10,
      "outputs": [
        {
          "output_type": "stream",
          "name": "stdout",
          "text": [
            "\n",
            "Hello welcome to Simran Shaikh Project for NLP. This is my tokenization demo code to understand how to tokenize text.\n",
            "I hope that you find it useful.\n",
            "\n",
            "\n"
          ]
        }
      ]
    },
    {
      "cell_type": "code",
      "source": [
        "# convert  paragraph to sentence\n",
        "import nltk\n",
        "from nltk.tokenize import sent_tokenize\n",
        "nltk.download('punkt') # this will download the 'punkt' data package\n",
        "\n",
        "sent_tokenize(corpus)"
      ],
      "metadata": {
        "colab": {
          "base_uri": "https://localhost:8080/"
        },
        "id": "b6TZ-VW3PTLz",
        "outputId": "93ac9279-7996-450d-dfce-89661b9dbe91"
      },
      "execution_count": 11,
      "outputs": [
        {
          "output_type": "stream",
          "name": "stderr",
          "text": [
            "[nltk_data] Downloading package punkt to /root/nltk_data...\n",
            "[nltk_data]   Package punkt is already up-to-date!\n"
          ]
        },
        {
          "output_type": "execute_result",
          "data": {
            "text/plain": [
              "['\\nHello welcome to Simran Shaikh Project for NLP.',\n",
              " 'This is my tokenization demo code to understand how to tokenize text.',\n",
              " 'I hope that you find it useful.']"
            ]
          },
          "metadata": {},
          "execution_count": 11
        }
      ]
    },
    {
      "cell_type": "code",
      "source": [
        "#convert from sentence to word\n",
        "from nltk.tokenize import word_tokenize\n",
        "word_tokenize(corpus)"
      ],
      "metadata": {
        "colab": {
          "base_uri": "https://localhost:8080/"
        },
        "id": "8WeDvmp9PTO1",
        "outputId": "3f0de7c1-5464-4b0e-e4dc-50bf6b9ad1f5"
      },
      "execution_count": 12,
      "outputs": [
        {
          "output_type": "execute_result",
          "data": {
            "text/plain": [
              "['Hello',\n",
              " 'welcome',\n",
              " 'to',\n",
              " 'Simran',\n",
              " 'Shaikh',\n",
              " 'Project',\n",
              " 'for',\n",
              " 'NLP',\n",
              " '.',\n",
              " 'This',\n",
              " 'is',\n",
              " 'my',\n",
              " 'tokenization',\n",
              " 'demo',\n",
              " 'code',\n",
              " 'to',\n",
              " 'understand',\n",
              " 'how',\n",
              " 'to',\n",
              " 'tokenize',\n",
              " 'text',\n",
              " '.',\n",
              " 'I',\n",
              " 'hope',\n",
              " 'that',\n",
              " 'you',\n",
              " 'find',\n",
              " 'it',\n",
              " 'useful',\n",
              " '.']"
            ]
          },
          "metadata": {},
          "execution_count": 12
        }
      ]
    },
    {
      "cell_type": "code",
      "source": [
        "print(word_tokenize(corpus),sent_tokenize(corpus))"
      ],
      "metadata": {
        "colab": {
          "base_uri": "https://localhost:8080/"
        },
        "id": "6BpdTrYkQxBM",
        "outputId": "735deeb4-13b5-4956-a626-3327757b6f43"
      },
      "execution_count": 15,
      "outputs": [
        {
          "output_type": "stream",
          "name": "stdout",
          "text": [
            "['Hello', 'welcome', 'to', 'Simran', 'Shaikh', 'Project', 'for', 'NLP', '.', 'This', 'is', 'my', 'tokenization', 'demo', 'code', 'to', 'understand', 'how', 'to', 'tokenize', 'text', '.', 'I', 'hope', 'that', 'you', 'find', 'it', 'useful', '.'] ['\\nHello welcome to Simran Shaikh Project for NLP.', 'This is my tokenization demo code to understand how to tokenize text.', 'I hope that you find it useful.']\n"
          ]
        }
      ]
    },
    {
      "cell_type": "code",
      "source": [
        "# It split all punchuation also\n",
        "from nltk.tokenize import wordpunct_tokenize\n",
        "wordpunct_tokenize(corpus)"
      ],
      "metadata": {
        "colab": {
          "base_uri": "https://localhost:8080/"
        },
        "id": "T6MvFzZ-Qw90",
        "outputId": "97f2aa61-986a-4bcd-8e80-aa706bc62d3a"
      },
      "execution_count": 16,
      "outputs": [
        {
          "output_type": "execute_result",
          "data": {
            "text/plain": [
              "['Hello',\n",
              " 'welcome',\n",
              " 'to',\n",
              " 'Simran',\n",
              " 'Shaikh',\n",
              " 'Project',\n",
              " 'for',\n",
              " 'NLP',\n",
              " '.',\n",
              " 'This',\n",
              " 'is',\n",
              " 'my',\n",
              " 'tokenization',\n",
              " 'demo',\n",
              " 'code',\n",
              " 'to',\n",
              " 'understand',\n",
              " 'how',\n",
              " 'to',\n",
              " 'tokenize',\n",
              " 'text',\n",
              " '.',\n",
              " 'I',\n",
              " 'hope',\n",
              " 'that',\n",
              " 'you',\n",
              " 'find',\n",
              " 'it',\n",
              " 'useful',\n",
              " '.']"
            ]
          },
          "metadata": {},
          "execution_count": 16
        }
      ]
    },
    {
      "cell_type": "code",
      "source": [
        "# full stop is not treated as separte word in treeban word okenizer\n",
        "from nltk.tokenize import TreebankWordTokenizer\n",
        "tokenizer=TreebankWordTokenizer()\n",
        "tokenizer.tokenize(corpus)"
      ],
      "metadata": {
        "colab": {
          "base_uri": "https://localhost:8080/"
        },
        "id": "wusxmaVvQw8I",
        "outputId": "56afb3ff-c180-49a1-ebca-685206b47e61"
      },
      "execution_count": 17,
      "outputs": [
        {
          "output_type": "execute_result",
          "data": {
            "text/plain": [
              "['Hello',\n",
              " 'welcome',\n",
              " 'to',\n",
              " 'Simran',\n",
              " 'Shaikh',\n",
              " 'Project',\n",
              " 'for',\n",
              " 'NLP.',\n",
              " 'This',\n",
              " 'is',\n",
              " 'my',\n",
              " 'tokenization',\n",
              " 'demo',\n",
              " 'code',\n",
              " 'to',\n",
              " 'understand',\n",
              " 'how',\n",
              " 'to',\n",
              " 'tokenize',\n",
              " 'text.',\n",
              " 'I',\n",
              " 'hope',\n",
              " 'that',\n",
              " 'you',\n",
              " 'find',\n",
              " 'it',\n",
              " 'useful',\n",
              " '.']"
            ]
          },
          "metadata": {},
          "execution_count": 17
        }
      ]
    }
  ]
}