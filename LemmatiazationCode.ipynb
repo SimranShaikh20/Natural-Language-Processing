{
  "nbformat": 4,
  "nbformat_minor": 0,
  "metadata": {
    "colab": {
      "provenance": [],
      "authorship_tag": "ABX9TyOc8T1gJxLjlIhVt+CClwat",
      "include_colab_link": true
    },
    "kernelspec": {
      "name": "python3",
      "display_name": "Python 3"
    },
    "language_info": {
      "name": "python"
    }
  },
  "cells": [
    {
      "cell_type": "markdown",
      "metadata": {
        "id": "view-in-github",
        "colab_type": "text"
      },
      "source": [
        "<a href=\"https://colab.research.google.com/github/SimranShaikh20/Natural-Language-Processing/blob/main/LemmatiazationCode.ipynb\" target=\"_parent\"><img src=\"https://colab.research.google.com/assets/colab-badge.svg\" alt=\"Open In Colab\"/></a>"
      ]
    },
    {
      "cell_type": "markdown",
      "source": [
        "## **Wordnet Lemmatizer**\n",
        "\n",
        "\n"
      ],
      "metadata": {
        "id": "Pu3AbJgtzVG0"
      }
    },
    {
      "cell_type": "markdown",
      "source": [
        "## Lemmatization technique is like stemming. The output we will get after lemmatization is called ‘lemma’, which is a root word rather than root stem, the output of stemming. After lemmatization, we will be getting a valid word that means the same thing."
      ],
      "metadata": {
        "id": "o8v3ltBGzcUQ"
      }
    },
    {
      "cell_type": "code",
      "execution_count": 1,
      "metadata": {
        "id": "yVdN_yKey_d5"
      },
      "outputs": [],
      "source": [
        "##  where we can used wordnet lemmatizer --  Q&A,chatbots,text summarization\n",
        "from nltk.stem import WordNetLemmatizer"
      ]
    },
    {
      "cell_type": "code",
      "source": [
        "lemmatizer=WordNetLemmatizer()"
      ],
      "metadata": {
        "id": "-xKG5efuz6iL"
      },
      "execution_count": 2,
      "outputs": []
    },
    {
      "cell_type": "code",
      "source": [
        "import nltk\n",
        "nltk.download('wordnet')\n"
      ],
      "metadata": {
        "colab": {
          "base_uri": "https://localhost:8080/"
        },
        "id": "zAXUd-hh0VMH",
        "outputId": "e5685084-834d-43d3-eb9e-d4a426d964b5"
      },
      "execution_count": 5,
      "outputs": [
        {
          "output_type": "stream",
          "name": "stderr",
          "text": [
            "[nltk_data] Downloading package wordnet to /root/nltk_data...\n"
          ]
        },
        {
          "output_type": "execute_result",
          "data": {
            "text/plain": [
              "True"
            ]
          },
          "metadata": {},
          "execution_count": 5
        }
      ]
    },
    {
      "cell_type": "code",
      "source": [
        "'''\n",
        "POS- Noun-n\n",
        "verb-v\n",
        "adjective-a\n",
        "adverb-r\n",
        "'''\n",
        "lemmatizer.lemmatize(\"going\",pos='v')"
      ],
      "metadata": {
        "colab": {
          "base_uri": "https://localhost:8080/",
          "height": 35
        },
        "id": "aidxcegOz6eo",
        "outputId": "64025b38-e3fc-4d9a-9e80-f34ba19561e2"
      },
      "execution_count": 6,
      "outputs": [
        {
          "output_type": "execute_result",
          "data": {
            "text/plain": [
              "'go'"
            ],
            "application/vnd.google.colaboratory.intrinsic+json": {
              "type": "string"
            }
          },
          "metadata": {},
          "execution_count": 6
        }
      ]
    },
    {
      "cell_type": "code",
      "source": [
        "word=['eating','eat','eatan','go','going','gone','sleep','slept','do','doing','history','done','programming','program','writing','write','writen']"
      ],
      "metadata": {
        "id": "eY3ORafIz6b4"
      },
      "execution_count": 7,
      "outputs": []
    },
    {
      "cell_type": "code",
      "source": [
        "for words in word :\n",
        "  print(words,\" ---> \",lemmatizer.lemmatize(words))\n"
      ],
      "metadata": {
        "colab": {
          "base_uri": "https://localhost:8080/"
        },
        "id": "8X9l-y0mz6Y1",
        "outputId": "f43d162f-ba21-461b-aa83-564869cb33c7"
      },
      "execution_count": 9,
      "outputs": [
        {
          "output_type": "stream",
          "name": "stdout",
          "text": [
            "eating  --->  eating\n",
            "eat  --->  eat\n",
            "eatan  --->  eatan\n",
            "go  --->  go\n",
            "going  --->  going\n",
            "gone  --->  gone\n",
            "sleep  --->  sleep\n",
            "slept  --->  slept\n",
            "do  --->  do\n",
            "doing  --->  doing\n",
            "history  --->  history\n",
            "done  --->  done\n",
            "programming  --->  programming\n",
            "program  --->  program\n",
            "writing  --->  writing\n",
            "write  --->  write\n",
            "writen  --->  writen\n"
          ]
        }
      ]
    },
    {
      "cell_type": "code",
      "source": [
        "lemmatizer.lemmatize(\"goes\",pos='v')"
      ],
      "metadata": {
        "colab": {
          "base_uri": "https://localhost:8080/",
          "height": 35
        },
        "id": "iGNX9Htfz6WC",
        "outputId": "8a77312f-b9b6-41f1-f9ba-2f4a443ed68d"
      },
      "execution_count": 10,
      "outputs": [
        {
          "output_type": "execute_result",
          "data": {
            "text/plain": [
              "'go'"
            ],
            "application/vnd.google.colaboratory.intrinsic+json": {
              "type": "string"
            }
          },
          "metadata": {},
          "execution_count": 10
        }
      ]
    },
    {
      "cell_type": "code",
      "source": [
        "lemmatizer.lemmatize(\"fairly\",pos='v'),lemmatizer.lemmatize(\"sportingly\")"
      ],
      "metadata": {
        "colab": {
          "base_uri": "https://localhost:8080/"
        },
        "id": "JwnxGYtL0zsE",
        "outputId": "98f0ce40-9f7c-41ec-e097-e4dedd6e93de"
      },
      "execution_count": 11,
      "outputs": [
        {
          "output_type": "execute_result",
          "data": {
            "text/plain": [
              "('fairly', 'sportingly')"
            ]
          },
          "metadata": {},
          "execution_count": 11
        }
      ]
    },
    {
      "cell_type": "code",
      "source": [
        "lemmatizer.lemmatize(\"congratulations\",pos='v')"
      ],
      "metadata": {
        "colab": {
          "base_uri": "https://localhost:8080/",
          "height": 35
        },
        "id": "4izKxDft0zq4",
        "outputId": "dce0e43b-4e40-4b3b-980c-94a14ac7b3e2"
      },
      "execution_count": 12,
      "outputs": [
        {
          "output_type": "execute_result",
          "data": {
            "text/plain": [
              "'congratulations'"
            ],
            "application/vnd.google.colaboratory.intrinsic+json": {
              "type": "string"
            }
          },
          "metadata": {},
          "execution_count": 12
        }
      ]
    },
    {
      "cell_type": "code",
      "source": [
        "lemmatizer.lemmatize(\"pomegranate\",pos='v')"
      ],
      "metadata": {
        "colab": {
          "base_uri": "https://localhost:8080/",
          "height": 35
        },
        "id": "pitFh9-L0znW",
        "outputId": "2b161ff6-13f8-4fda-92d5-15cd58d4928a"
      },
      "execution_count": 13,
      "outputs": [
        {
          "output_type": "execute_result",
          "data": {
            "text/plain": [
              "'pomegranate'"
            ],
            "application/vnd.google.colaboratory.intrinsic+json": {
              "type": "string"
            }
          },
          "metadata": {},
          "execution_count": 13
        }
      ]
    },
    {
      "cell_type": "markdown",
      "source": [
        "While using lemmatizer it will give the word as it meaning it don't change meaning like stemming.\n",
        "In stemming we had see that word - history change towards histori which have a differnt meaning .\n",
        "# But using lemmatiazer it will take more time compare stemming because it called a function morphy() which take time ."
      ],
      "metadata": {
        "id": "qt0jYtQn1Szi"
      }
    }
  ]
}