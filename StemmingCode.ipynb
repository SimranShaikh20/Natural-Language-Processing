{
  "nbformat": 4,
  "nbformat_minor": 0,
  "metadata": {
    "colab": {
      "provenance": [],
      "authorship_tag": "ABX9TyP33dPOmjs8t1OtoLrwZRJL",
      "include_colab_link": true
    },
    "kernelspec": {
      "name": "python3",
      "display_name": "Python 3"
    },
    "language_info": {
      "name": "python"
    }
  },
  "cells": [
    {
      "cell_type": "markdown",
      "metadata": {
        "id": "view-in-github",
        "colab_type": "text"
      },
      "source": [
        "<a href=\"https://colab.research.google.com/github/SimranShaikh20/Natural-Language-Processing/blob/main/StemmingCode.ipynb\" target=\"_parent\"><img src=\"https://colab.research.google.com/assets/colab-badge.svg\" alt=\"Open In Colab\"/></a>"
      ]
    },
    {
      "cell_type": "markdown",
      "source": [
        "# Stemming a text preprocessing part in which we find out common word in sentences"
      ],
      "metadata": {
        "id": "QwcDETw0uQiX"
      }
    },
    {
      "cell_type": "code",
      "execution_count": 5,
      "metadata": {
        "id": "6_IftVQhuI73"
      },
      "outputs": [],
      "source": [
        "# Class prediction\n",
        "# reviews - eating, eat , eaten --->stem word for it is eat\n",
        "word=['eating','eat','eatan','go','going','gone','sleep','slept','do','doing','history','done','programming','program','writing','write','writen']"
      ]
    },
    {
      "cell_type": "code",
      "source": [
        "# Porter Stemming technique\n",
        "from nltk.stem import PorterStemmer\n",
        "stemming=PorterStemmer()\n"
      ],
      "metadata": {
        "id": "Qgsr2L0Qvodv"
      },
      "execution_count": 9,
      "outputs": []
    },
    {
      "cell_type": "code",
      "source": [
        "# as history meaning change in below o/p which ia disadvantage\n",
        "for words in word:\n",
        "    print(words,'<--->',stemming.stem(words))"
      ],
      "metadata": {
        "colab": {
          "base_uri": "https://localhost:8080/"
        },
        "id": "p3YKpRU1voZq",
        "outputId": "56754f07-9c6c-450c-d4e7-4d53ada27b16"
      },
      "execution_count": 10,
      "outputs": [
        {
          "output_type": "stream",
          "name": "stdout",
          "text": [
            "eating <---> eat\n",
            "eat <---> eat\n",
            "eatan <---> eatan\n",
            "go <---> go\n",
            "going <---> go\n",
            "gone <---> gone\n",
            "sleep <---> sleep\n",
            "slept <---> slept\n",
            "do <---> do\n",
            "doing <---> do\n",
            "history <---> histori\n",
            "done <---> done\n",
            "programming <---> program\n",
            "program <---> program\n",
            "writing <---> write\n",
            "write <---> write\n",
            "writen <---> writen\n"
          ]
        }
      ]
    },
    {
      "cell_type": "code",
      "source": [
        "stemming.stem(\"congratualations\")"
      ],
      "metadata": {
        "colab": {
          "base_uri": "https://localhost:8080/",
          "height": 35
        },
        "id": "Vg3HirYtv93L",
        "outputId": "d3405bb4-8c69-47b7-8840-5f4f841ee2fb"
      },
      "execution_count": 11,
      "outputs": [
        {
          "output_type": "execute_result",
          "data": {
            "text/plain": [
              "'congratual'"
            ],
            "application/vnd.google.colaboratory.intrinsic+json": {
              "type": "string"
            }
          },
          "metadata": {},
          "execution_count": 11
        }
      ]
    },
    {
      "cell_type": "code",
      "source": [
        "stemming.stem('sitting')"
      ],
      "metadata": {
        "colab": {
          "base_uri": "https://localhost:8080/",
          "height": 35
        },
        "id": "4HJBzAalv91n",
        "outputId": "05e6fcc8-b826-42cf-e725-3b6b96ae89a8"
      },
      "execution_count": 12,
      "outputs": [
        {
          "output_type": "execute_result",
          "data": {
            "text/plain": [
              "'sit'"
            ],
            "application/vnd.google.colaboratory.intrinsic+json": {
              "type": "string"
            }
          },
          "metadata": {},
          "execution_count": 12
        }
      ]
    },
    {
      "cell_type": "markdown",
      "source": [
        "## RegressStemmer Class"
      ],
      "metadata": {
        "id": "hX1AKgy5xsns"
      }
    },
    {
      "cell_type": "code",
      "source": [
        "#$ means last character , if no $ symbol then defult\n",
        "from nltk.stem import RegexpStemmer\n",
        "reg_stemmer=RegexpStemmer('ing$|e$|s$|ion$',min=4)\n",
        "reg_stemmer.stem('eating')\n"
      ],
      "metadata": {
        "colab": {
          "base_uri": "https://localhost:8080/",
          "height": 35
        },
        "id": "SqUQINl7xId0",
        "outputId": "a828c831-bfe9-4017-bddc-c7cfcb73efaf"
      },
      "execution_count": 13,
      "outputs": [
        {
          "output_type": "execute_result",
          "data": {
            "text/plain": [
              "'eat'"
            ],
            "application/vnd.google.colaboratory.intrinsic+json": {
              "type": "string"
            }
          },
          "metadata": {},
          "execution_count": 13
        }
      ]
    },
    {
      "cell_type": "code",
      "source": [
        "reg_stemmer.stem('ingeating')"
      ],
      "metadata": {
        "colab": {
          "base_uri": "https://localhost:8080/",
          "height": 35
        },
        "id": "6K4zaQeqv9wv",
        "outputId": "b7bb5ddf-e737-434d-c2ce-70eb1aa9f969"
      },
      "execution_count": 14,
      "outputs": [
        {
          "output_type": "execute_result",
          "data": {
            "text/plain": [
              "'ingeat'"
            ],
            "application/vnd.google.colaboratory.intrinsic+json": {
              "type": "string"
            }
          },
          "metadata": {},
          "execution_count": 14
        }
      ]
    },
    {
      "cell_type": "markdown",
      "source": [
        "### Snowball Stemmer it is better then stemmer and regxpstemmer"
      ],
      "metadata": {
        "id": "n3-_PryI0VF7"
      }
    },
    {
      "cell_type": "code",
      "source": [
        "from nltk.stem import SnowballStemmer\n",
        "snow=SnowballStemmer('english')"
      ],
      "metadata": {
        "id": "kwluyEoIz3o0"
      },
      "execution_count": 15,
      "outputs": []
    },
    {
      "cell_type": "code",
      "source": [
        "for words in word:\n",
        "    print(words,'<--->',snow.stem(words))"
      ],
      "metadata": {
        "colab": {
          "base_uri": "https://localhost:8080/"
        },
        "id": "7JUJRiK9z3lc",
        "outputId": "fef3bcc2-25ec-4437-88f6-fbc85690d715"
      },
      "execution_count": 16,
      "outputs": [
        {
          "output_type": "stream",
          "name": "stdout",
          "text": [
            "eating <---> eat\n",
            "eat <---> eat\n",
            "eatan <---> eatan\n",
            "go <---> go\n",
            "going <---> go\n",
            "gone <---> gone\n",
            "sleep <---> sleep\n",
            "slept <---> slept\n",
            "do <---> do\n",
            "doing <---> do\n",
            "history <---> histori\n",
            "done <---> done\n",
            "programming <---> program\n",
            "program <---> program\n",
            "writing <---> write\n",
            "write <---> write\n",
            "writen <---> writen\n"
          ]
        }
      ]
    },
    {
      "cell_type": "code",
      "source": [
        "stemming.stem('fairly'), stemming.stem('sportingly')"
      ],
      "metadata": {
        "colab": {
          "base_uri": "https://localhost:8080/"
        },
        "id": "ijX0u1-Tz3iP",
        "outputId": "06a6f73f-6c93-4b70-a93f-0875e4de7519"
      },
      "execution_count": 17,
      "outputs": [
        {
          "output_type": "execute_result",
          "data": {
            "text/plain": [
              "('fairli', 'sportingli')"
            ]
          },
          "metadata": {},
          "execution_count": 17
        }
      ]
    },
    {
      "cell_type": "code",
      "source": [
        "snow.stem('fairly'), snow.stem('sportingly')"
      ],
      "metadata": {
        "colab": {
          "base_uri": "https://localhost:8080/"
        },
        "id": "058xQqKsz3gD",
        "outputId": "709be6d5-ef18-4fbd-cae7-74a9aa1e6f5f"
      },
      "execution_count": 18,
      "outputs": [
        {
          "output_type": "execute_result",
          "data": {
            "text/plain": [
              "('fair', 'sport')"
            ]
          },
          "metadata": {},
          "execution_count": 18
        }
      ]
    },
    {
      "cell_type": "code",
      "source": [
        "snow.stem('goes')"
      ],
      "metadata": {
        "colab": {
          "base_uri": "https://localhost:8080/",
          "height": 35
        },
        "id": "pWjpu5hbz3dW",
        "outputId": "b78501d4-18d2-4a0b-ca74-4c69d3230560"
      },
      "execution_count": 19,
      "outputs": [
        {
          "output_type": "execute_result",
          "data": {
            "text/plain": [
              "'goe'"
            ],
            "application/vnd.google.colaboratory.intrinsic+json": {
              "type": "string"
            }
          },
          "metadata": {},
          "execution_count": 19
        }
      ]
    }
  ]
}